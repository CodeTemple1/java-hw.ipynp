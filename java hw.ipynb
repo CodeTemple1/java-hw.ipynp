{
 "cells": [
  {
   "cell_type": "code",
   "execution_count": null,
   "id": "4ceb7709",
   "metadata": {},
   "outputs": [],
   "source": [
    "*Write a function that takes in the string and the list of dog names, loops through \n",
    "the list and checks that the current name is in the string passed in. The output should be:\n",
    "\"Matched dog_name\" if name is in the string, if no matches are present console.log \"No Matches\"\n",
    "*/\n",
    "let dog_string = \"Hello Max, my name is Dog, and I have purple eyes!\"\n",
    "let dog_names = [\"Max\",\"HAS\",\"PuRple\",\"dog\"]\n",
    "\n",
    "function findWords(){\n",
    "    onst names = [‘Max’, ‘Baseball’, ‘Reboot’, ‘Goku’, ‘Trucks’, ‘Rodger’];\n",
    "    function evenindex(names) {\n",
    "        for (let i = 0; i < names.length; i += 2) {\n",
    "            names.splice(i, 1, ‘evenindex’)\n",
    "        }\n",
    "        return names\n",
    "    }\n",
    "    console.log(evenindex(names))\n",
    "//names.splice(0,1, “even index”);\n",
    "//console.log(names)\n",
    "\n",
    "}\n",
    "\n",
    "//Call method here with parameters\n",
    "\n",
    "* Write a fucntion that takes in an array and removes every even index with a splice,\n",
    "    and replaces it with the string \"even index\" * /\n",
    "\n",
    "Given arr == [\"Max\", \"Baseball\", \"Reboot\", \"Goku\", \"Trucks\", \"Rodger\"]\n",
    "\n",
    "function replaceEvens(arr) {\n",
    "    var arr = [];\n",
    "\n",
    "    function even(a) {\n",
    "        var ar = [];\n",
    "\n",
    "        for (var i = 0; i < a.length; i++) {\n",
    "            ar.push(a[2 * i + 1]);\n",
    "        }\n",
    "\n",
    "        return ar;\n",
    "    }\n",
    "\n",
    "    alert(even(arr));\n",
    "\n",
    "//Expected output\n",
    "//Given arr == [\"Max\",\"Baseball\",\"Reboot\",\"Goku\",\"Trucks\",\"Rodger\"]\n",
    "//Output arr == [\"even index\",\"Baseball\",\"even index\",\"Goku\",\"even index\",\"Rodger\"]\n"
   ]
  }
 ],
 "metadata": {
  "kernelspec": {
   "display_name": "Python 3",
   "language": "python",
   "name": "python3"
  },
  "language_info": {
   "codemirror_mode": {
    "name": "ipython",
    "version": 3
   },
   "file_extension": ".py",
   "mimetype": "text/x-python",
   "name": "python",
   "nbconvert_exporter": "python",
   "pygments_lexer": "ipython3",
   "version": "3.8.8"
  }
 },
 "nbformat": 4,
 "nbformat_minor": 5
}
